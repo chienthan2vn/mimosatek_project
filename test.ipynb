{
 "cells": [
  {
   "cell_type": "code",
   "execution_count": 1,
   "id": "8b7e2aac",
   "metadata": {},
   "outputs": [
    {
     "name": "stdout",
     "output_type": "stream",
     "text": [
      "[{'farm_id': '5c182350-1866-4c9f-ac68-2eb7e5336d1d', 'area_name': 'AWD#10523', 'area_id': '23c37cf0-1ce4-11ef-ad14-eb5d5cf1d471'}, {'farm_id': '5c182350-1866-4c9f-ac68-2eb7e5336d1d', 'area_name': 'AWD#10525', 'area_id': '2aaa74b0-1ce4-11ef-ad14-eb5d5cf1d471'}, {'farm_id': '5c182350-1866-4c9f-ac68-2eb7e5336d1d', 'area_name': 'AWD#10526', 'area_id': '2d519fe0-1ce4-11ef-ad14-eb5d5cf1d471'}, {'farm_id': '5c182350-1866-4c9f-ac68-2eb7e5336d1d', 'area_name': 'AWD#10535', 'area_id': 'f58207b0-3a7c-11ef-ad14-eb5d5cf1d471'}, {'farm_id': '5c182350-1866-4c9f-ac68-2eb7e5336d1d', 'area_name': 'KV 1.1', 'area_id': '2183be70-762e-11ef-a0e3-bd12759f5833'}, {'farm_id': '5c182350-1866-4c9f-ac68-2eb7e5336d1d', 'area_name': 'KV 1.2', 'area_id': '2cd8beb0-762e-11ef-a0e3-bd12759f5833'}, {'farm_id': '5c182350-1866-4c9f-ac68-2eb7e5336d1d', 'area_name': 'KV 11 2024', 'area_id': 'e30780a0-a175-11ef-8534-3d9db8631592'}, {'farm_id': '5c182350-1866-4c9f-ac68-2eb7e5336d1d', 'area_name': 'KV MimosaTEK', 'area_id': '63356060-420b-11ee-994e-ab594b9cc8cc'}, {'farm_id': '5c182350-1866-4c9f-ac68-2eb7e5336d1d', 'area_name': 'KV Node CD #10000', 'area_id': '74ff1db0-1bf1-11f0-a542-ffee54ddb93a'}, {'farm_id': '5c182350-1866-4c9f-ac68-2eb7e5336d1d', 'area_name': 'KV Tân Test 2025', 'area_id': 'bff03880-e2a4-11ef-be54-4332626d7bba'}, {'farm_id': '5c182350-1866-4c9f-ac68-2eb7e5336d1d', 'area_name': 'KV Tùng Test', 'area_id': 'de9b0010-b11e-11ef-a513-c7b1cc05b905'}, {'farm_id': '5c182350-1866-4c9f-ac68-2eb7e5336d1d', 'area_name': 'KV1 90', 'area_id': '4096f420-3cfa-11ef-ad14-eb5d5cf1d471'}, {'farm_id': '5c182350-1866-4c9f-ac68-2eb7e5336d1d', 'area_name': 'KV2', 'area_id': '03ec2a30-75a4-11ef-a0e3-bd12759f5833'}, {'farm_id': '5c182350-1866-4c9f-ac68-2eb7e5336d1d', 'area_name': 'Khoa Test Asset', 'area_id': 'fd738350-a574-11ef-932d-27736c9d5b45'}, {'farm_id': '5c182350-1866-4c9f-ac68-2eb7e5336d1d', 'area_name': 'Tan Test', 'area_id': '8b95a7e0-e8f0-11ee-b300-313a352bcf37'}, {'farm_id': '5c182350-1866-4c9f-ac68-2eb7e5336d1d', 'area_name': 'Test 2000m2', 'area_id': '869c99f0-b4f2-11ef-ab8e-11a7dae00a1b'}]\n"
     ]
    }
   ],
   "source": [
    "from tools.utils import APIHandler\n",
    "\n",
    "test = APIHandler()\n",
    "a = test.get_list_area_by_farm_api(\"5c182350-1866-4c9f-ac68-2eb7e5336d1d\")\n",
    "print(a)"
   ]
  },
  {
   "cell_type": "code",
   "execution_count": 2,
   "id": "a07df216",
   "metadata": {},
   "outputs": [
    {
     "name": "stderr",
     "output_type": "stream",
     "text": [
      "INFO:tools.utils:Payload for getting controllers: {\n",
      "  \"query\": \"\\n    query controllers($farm_id: ID!) {\\n        controllers(farm_id: $farm_id) {\\n            id\\n            name\\n            type\\n            topic\\n            latest_signal_at\\n            subscription_plan\\n            state\\n            valve_mode\\n            nodes {\\n                area_id\\n                node_id\\n                area_name\\n            }\\n            current_program {\\n                id\\n                name\\n            }\\n            current_area {\\n                id\\n                name\\n                start_at\\n                end_at\\n                latest_signal_at\\n                plant_total\\n                plants_per_pot\\n                status\\n                plant_density\\n                latitude\\n                longitude\\n                tz_longitude\\n                elevation_sea_level\\n                wind_sensor_elevation\\n                efficient_moisture_ratio\\n                irrigation_recommendations_system\\n                irs_use_solar_time\\n                ETC\\n                availableSensors\\n                time_to_refill\\n            }\\n            current_areas {\\n                id\\n                name\\n                start_at\\n                end_at\\n                latest_signal_at\\n                plant_total\\n                plants_per_pot\\n                status\\n                plant_density\\n                latitude\\n                longitude\\n                tz_longitude\\n                elevation_sea_level\\n                wind_sensor_elevation\\n                efficient_moisture_ratio\\n                irrigation_recommendations_system\\n                irs_use_solar_time\\n                ETC\\n                availableSensors\\n                time_to_refill\\n            }\\n            notification_settings {\\n                malfunctions_only\\n            }\\n            valves {\\n                status\\n                setting\\n            }\\n            latest_ph {\\n                value\\n                unit\\n                ts\\n            }\\n            latest_ec {\\n                value\\n                unit\\n                ts\\n            }\\n            threshold_reaction {\\n                loaded_by\\n                csv_name\\n                ts\\n                status\\n            }\\n            tanks {\\n                type\\n                design_volume\\n                design_weight\\n                filled_volume\\n                filled_weight\\n                filled_at\\n                current_volume\\n                current_weight\\n            }\\n            tanks_refill_timeline {\\n                ts\\n                value {\\n                    type\\n                    design_volume\\n                    design_weight\\n                    filled_volume\\n                    filled_weight\\n                    filled_at\\n                    current_volume\\n                    current_weight\\n                }\\n                by {\\n                    id\\n                    username\\n                }\\n            }\\n            tanks_refill_feed {\\n                cursor\\n                limit\\n                has_more\\n            }\\n        }\\n    }\\n    \",\n",
      "  \"variables\": {\n",
      "    \"farm_id\": \"5c182350-1866-4c9f-ac68-2eb7e5336d1d\",\n",
      "    \"hourlyLimit\": 4000,\n",
      "    \"dailyLimit\": 100\n",
      "  }\n",
      "}\n",
      "INFO:tools.utils:Status code: 200\n",
      "INFO:tools.utils:Found 5 controllers for farm 5c182350-1866-4c9f-ac68-2eb7e5336d1d\n"
     ]
    },
    {
     "name": "stdout",
     "output_type": "stream",
     "text": [
      "[{'controller_id': '73189a08-f182-4056-83c6-0077b79b72cb', 'nodes': [{'area_id': '14bad945-8632-49cb-801b-39a3cb276772', 'area_name': 'KV1-B'}, {'area_id': 'aeb36e97-e77b-4153-86bd-afadbd7d4cc9', 'area_name': 'KV3'}, {'area_id': '63102c80-5055-11ed-910b-917a50e89c51', 'area_name': '2'}, {'area_id': '5149b390-6978-11ed-9601-d7ea05fad7ba', 'area_name': 'KV1-A'}, {'area_id': '0aeb0a30-7778-11ed-9c34-bf1688e69845', 'area_name': '5'}, {'area_id': 'fd836230-a9ee-11ed-9c34-bf1688e69845', 'area_name': 'TEST VALVE'}, {'area_id': '9534b200-c14b-11ed-9c34-bf1688e69845', 'area_name': 'Valve 1'}, {'area_id': '971f1ce0-c14b-11ed-9c34-bf1688e69845', 'area_name': 'Valve 5'}, {'area_id': '63356060-420b-11ee-994e-ab594b9cc8cc', 'area_name': 'KV MimosaTEK'}, {'area_id': '8b95a7e0-e8f0-11ee-b300-313a352bcf37', 'area_name': 'Tan Test'}]}, {'controller_id': '05fdd790-c490-11ed-9c34-bf1688e69845', 'nodes': [{'area_id': 'cc2f0f70-c499-11ed-9c34-bf1688e69845', 'area_name': 'mgreen 2C'}, {'area_id': '4096f420-3cfa-11ef-ad14-eb5d5cf1d471', 'area_name': 'KV1 90'}]}, {'controller_id': '231379e0-75a4-11ef-a0e3-bd12759f5833', 'nodes': []}, {'controller_id': '5b6ad8b0-75a4-11ef-a0e3-bd12759f5833', 'nodes': [{'area_id': '03ec2a30-75a4-11ef-a0e3-bd12759f5833', 'area_name': 'KV2'}, {'area_id': '2183be70-762e-11ef-a0e3-bd12759f5833', 'area_name': 'KV 1.1'}, {'area_id': '2cd8beb0-762e-11ef-a0e3-bd12759f5833', 'area_name': 'KV 1.2'}]}, {'controller_id': '9b2ee8e0-fa5d-11ef-8831-112b9cc8d9f8', 'nodes': [{'area_id': 'e30780a0-a175-11ef-8534-3d9db8631592', 'area_name': 'KV 11 2024'}, {'area_id': 'fd738350-a574-11ef-932d-27736c9d5b45', 'area_name': 'Khoa Test Asset'}]}]\n"
     ]
    }
   ],
   "source": [
    "b = test.get_controllers_by_farm_id(\"5c182350-1866-4c9f-ac68-2eb7e5336d1d\")\n",
    "print(b)"
   ]
  },
  {
   "cell_type": "code",
   "execution_count": null,
   "id": "0830dfe2",
   "metadata": {},
   "outputs": [],
   "source": []
  }
 ],
 "metadata": {
  "kernelspec": {
   "display_name": "test_env",
   "language": "python",
   "name": "python3"
  },
  "language_info": {
   "codemirror_mode": {
    "name": "ipython",
    "version": 3
   },
   "file_extension": ".py",
   "mimetype": "text/x-python",
   "name": "python",
   "nbconvert_exporter": "python",
   "pygments_lexer": "ipython3",
   "version": "3.10.0"
  }
 },
 "nbformat": 4,
 "nbformat_minor": 5
}
