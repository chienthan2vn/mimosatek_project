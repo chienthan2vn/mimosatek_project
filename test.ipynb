{
 "cells": [
  {
   "cell_type": "code",
   "execution_count": null,
   "id": "2ac86201",
   "metadata": {},
   "outputs": [],
   "source": [
    "!cd /home/merlin/project/mimosatek_project/agent-api \n",
    "from agents.assistant import get_assistant_agent\n",
    "\n",
    "a = get_assistant_agent()\n",
    "# b = a.run(\"What is the watering schedule today?\")\n",
    "\n",
    "b = a.print_response(\n",
    "        \"Tên tôi là gì?\",\n",
    "        stream=True,\n",
    "        show_full_reasoning=True,\n",
    "        stream_intermediate_steps=True,\n",
    "    )"
   ]
  },
  {
   "cell_type": "code",
   "execution_count": null,
   "id": "f767b59d",
   "metadata": {},
   "outputs": [],
   "source": []
  }
 ],
 "metadata": {
  "language_info": {
   "name": "python"
  }
 },
 "nbformat": 4,
 "nbformat_minor": 5
}
